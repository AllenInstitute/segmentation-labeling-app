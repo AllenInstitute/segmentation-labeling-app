{
 "cells": [
  {
   "cell_type": "markdown",
   "metadata": {},
   "source": [
    "# Simple ROI Visualization Widget\n",
    "View weighted ROI \"postage stamps\" for selection by shape and size."
   ]
  },
  {
   "cell_type": "code",
   "execution_count": 33,
   "metadata": {},
   "outputs": [],
   "source": [
    "import os\n",
    "import sys\n",
    "import psycopg2\n",
    "import pandas as pd\n",
    "import ipywidgets as widgets\n",
    "from ipywidgets import interact, interact_manual\n",
    "from scipy.sparse import coo_matrix\n",
    "import matplotlib.pyplot as plt\n",
    "import numpy as np\n",
    "from slapp.evaluation.views import postage_stamp"
   ]
  },
  {
   "cell_type": "markdown",
   "metadata": {},
   "source": [
    "### Retrieve ROIs from Database\n",
    "Note you'll need to have the environment variables \"LABELING_USER\" and \"LABELING_PASSWORD\" set to appropriate values.\n",
    "This will get the ROIs from the latest run of an experiment_id, if there are more than one."
   ]
  },
  {
   "cell_type": "code",
   "execution_count": 29,
   "metadata": {},
   "outputs": [],
   "source": [
    "with psycopg2.connect(\n",
    "        dbname=\"ophys_segmentation_labeling\", \n",
    "        user=os.environ[\"LABELING_USER\"], \n",
    "        host=\"aibsdc-dev-db1\", \n",
    "        password=os.environ[\"LABELING_PASSWORD\"], \n",
    "        port=5432) as conn:\n",
    "    with conn.cursor() as cursor:\n",
    "        cursor.execute(\n",
    "            \"\"\"\n",
    "            SELECT\n",
    "                DISTINCT ON (roi_id, experiment_id)\n",
    "                rois.id as roi_id, coo_data, coo_row, coo_col, video_shape, ophys_experiment_id as experiment_id\n",
    "            FROM \n",
    "                rois\n",
    "            JOIN \n",
    "                segmentation_runs \n",
    "            ON \n",
    "                rois.segmentation_run_id = segmentation_runs.id\n",
    "            ORDER BY ophys_experiment_id, roi_id, segmentation_runs.created_at DESC\n",
    "            \"\"\")\n",
    "        cols = list(map(lambda x: x[0], cursor.description))\n",
    "        result = pd.DataFrame(cursor.fetchall(), columns=cols).set_index(\"roi_id\")\n",
    "\n",
    "rois_per_exp = result.reset_index().groupby(\"experiment_id\")[\"roi_id\"].apply(list).to_dict()"
   ]
  },
  {
   "cell_type": "markdown",
   "metadata": {},
   "source": [
    "### Generate Images\n",
    "Make the postage stamp image arrays. Some artifacts will have ROIs larger than 100x100 pixels -- these will show a warning and will not be padded."
   ]
  },
  {
   "cell_type": "code",
   "execution_count": 34,
   "metadata": {},
   "outputs": [
    {
     "name": "stderr",
     "output_type": "stream",
     "text": [
      "WARNING:root:Specified shape after padding is too small. Returning input array without padding.\n",
      "WARNING:root:Specified shape after padding is too small. Returning input array without padding.\n",
      "WARNING:root:Specified shape after padding is too small. Returning input array without padding.\n",
      "WARNING:root:Specified shape after padding is too small. Returning input array without padding.\n",
      "WARNING:root:Specified shape after padding is too small. Returning input array without padding.\n",
      "WARNING:root:Specified shape after padding is too small. Returning input array without padding.\n",
      "WARNING:root:Specified shape after padding is too small. Returning input array without padding.\n",
      "WARNING:root:Specified shape after padding is too small. Returning input array without padding.\n",
      "WARNING:root:Specified shape after padding is too small. Returning input array without padding.\n",
      "WARNING:root:Specified shape after padding is too small. Returning input array without padding.\n",
      "WARNING:root:Specified shape after padding is too small. Returning input array without padding.\n",
      "WARNING:root:Specified shape after padding is too small. Returning input array without padding.\n",
      "WARNING:root:Specified shape after padding is too small. Returning input array without padding.\n",
      "WARNING:root:Specified shape after padding is too small. Returning input array without padding.\n",
      "WARNING:root:Specified shape after padding is too small. Returning input array without padding.\n",
      "WARNING:root:Specified shape after padding is too small. Returning input array without padding.\n",
      "WARNING:root:Specified shape after padding is too small. Returning input array without padding.\n"
     ]
    }
   ],
   "source": [
    "def _make_stamps(coo_data, coo_row, coo_col, shape):\n",
    "    mat = coo_matrix((coo_data, (coo_row, coo_col)), shape=tuple(shape))\n",
    "    return postage_stamp(mat, canvas_size=(100,100))\n",
    "\n",
    "result[\"stamp\"] = result[[\"coo_data\", \"coo_row\", \"coo_col\", \"video_shape\"]].apply(lambda x: _make_stamps(*x), axis=1)"
   ]
  },
  {
   "cell_type": "markdown",
   "metadata": {},
   "source": [
    "### Display Widget\n",
    "Select by experiment_id and roi_id dropdowns. Choosing a different experiment_id will refresh the roi_id dropdown."
   ]
  },
  {
   "cell_type": "code",
   "execution_count": 35,
   "metadata": {},
   "outputs": [
    {
     "data": {
      "application/vnd.jupyter.widget-view+json": {
       "model_id": "b48b3319be5247c9b29ddad1d30e6888",
       "version_major": 2,
       "version_minor": 0
      },
      "text/plain": [
       "interactive(children=(Dropdown(description='exp_id', options={716956096: [1, 2, 3, 4, 5, 6, 7, 8, 9, 10, 11, 1…"
      ]
     },
     "metadata": {},
     "output_type": "display_data"
    }
   ],
   "source": [
    "@interact\n",
    "def show_postage(exp_id=rois_per_exp):\n",
    "    @interact\n",
    "    def _show_postage(roi_id=exp_id):\n",
    "        roi = result.loc[roi_id][\"stamp\"]\n",
    "        plt.imshow(roi)"
   ]
  }
 ],
 "metadata": {
  "kernelspec": {
   "display_name": "Python 3",
   "language": "python",
   "name": "python3"
  },
  "language_info": {
   "codemirror_mode": {
    "name": "ipython",
    "version": 3
   },
   "file_extension": ".py",
   "mimetype": "text/x-python",
   "name": "python",
   "nbconvert_exporter": "python",
   "pygments_lexer": "ipython3",
   "version": "3.7.3"
  }
 },
 "nbformat": 4,
 "nbformat_minor": 4
}